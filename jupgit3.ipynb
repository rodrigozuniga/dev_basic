{
 "cells": [
  {
   "cell_type": "code",
   "execution_count": 14,
   "metadata": {},
   "outputs": [],
   "source": [
    "a,b,c,d=1,2,3,'dddd'"
   ]
  },
  {
   "cell_type": "code",
   "execution_count": 15,
   "metadata": {},
   "outputs": [
    {
     "name": "stdout",
     "output_type": "stream",
     "text": [
      "Variable          Type                          Data/Info\n",
      "---------------------------------------------------------\n",
      "NamespaceMagics   MetaHasTraits                 <class 'IPython.core.magi<...>mespace.NamespaceMagics'>\n",
      "a                 int                           1\n",
      "b                 int                           2\n",
      "c                 int                           3\n",
      "d                 str                           dddd\n",
      "get_ipython       function                      <function get_ipython at 0x00000277DD9E30D0>\n",
      "getsizeof         builtin_function_or_method    <built-in function getsizeof>\n",
      "json              module                        <module 'json' from 'C:\\\\<...>\\lib\\\\json\\\\__init__.py'>\n",
      "np                module                        <module 'numpy' from 'C:\\<...>ges\\\\numpy\\\\__init__.py'>\n",
      "var_dic_list      function                      <function var_dic_list at 0x00000277E1A7D310>\n"
     ]
    }
   ],
   "source": [
    "%whos"
   ]
  },
  {
   "cell_type": "code",
   "execution_count": 2,
   "metadata": {},
   "outputs": [
    {
     "data": {
      "text/plain": [
       "'C:\\\\Users\\\\rodri'"
      ]
     },
     "execution_count": 2,
     "metadata": {},
     "output_type": "execute_result"
    }
   ],
   "source": [
    "%pwd"
   ]
  },
  {
   "cell_type": "code",
   "execution_count": 3,
   "metadata": {},
   "outputs": [
    {
     "name": "stdout",
     "output_type": "stream",
     "text": [
      "C:\\Users\\rodri\\Google Drive\n"
     ]
    }
   ],
   "source": [
    "%cd \"Google Drive\"\n"
   ]
  },
  {
   "cell_type": "code",
   "execution_count": 9,
   "metadata": {},
   "outputs": [
    {
     "data": {
      "text/plain": [
       "'C:\\\\Users\\\\rodri\\\\Google Drive'"
      ]
     },
     "execution_count": 9,
     "metadata": {},
     "output_type": "execute_result"
    }
   ],
   "source": [
    "%pwd"
   ]
  },
  {
   "cell_type": "code",
   "execution_count": 8,
   "metadata": {
    "scrolled": true
   },
   "outputs": [
    {
     "name": "stdout",
     "output_type": "stream",
     "text": [
      " Volume in drive C has no label.\n",
      " Volume Serial Number is E403-40F8\n",
      "\n",
      " Directory of C:\\Users\\rodri\\Google Drive\n",
      "\n",
      "07/28/2022  02:37 PM    <DIR>          .\n",
      "08/04/2022  12:31 PM    <DIR>          ..\n",
      "07/28/2022  02:37 PM    <DIR>          .ipynb_checkpoints\n",
      "04/17/2017  09:00 PM           380,114 2016TurboTaxReturn (1).pdf\n",
      "07/27/2021  03:39 PM        34,237,357 Bariloche.png\n",
      "07/27/2021  03:25 PM         9,703,353 bariloche-framing4.jpg\n",
      "09/29/2020  09:19 PM               181 cancer data for MOOC 1.gsheet\n",
      "10/06/2021  12:50 AM        11,047,984 Carvallo Will & Trust Agreement.pdf\n",
      "02/16/2021  02:26 AM    <DIR>          Classroom\n",
      "01/28/2021  01:28 PM    <DIR>          clustering\n",
      "01/28/2021  01:28 PM    <DIR>          Colab Notebooks\n",
      "05/01/2017  02:11 PM               181 Copy of Analytics Resources.gsheet\n",
      "08/07/2017  09:19 PM               181 Copy of Beginner_Intermediate_Advanced Hive Analyst Training.gslides\n",
      "06/01/2016  09:47 AM               181 Copy of HIVE Training Materials.gslides\n",
      "03/25/2014  03:26 PM               100 datamanipulation2.R\n",
      "01/28/2021  01:28 PM    <DIR>          DataScience\n",
      "06/21/2022  11:05 AM    <DIR>          Dropbox\n",
      "04/03/2018  03:32 PM               181 DSI_kickstarterscrape_dataset.csv.gsheet\n",
      "02/11/2021  01:24 PM               159 Event.gsite\n",
      "12/06/2018  10:37 AM             2,410 first.html\n",
      "12/13/2018  02:10 PM         2,456,996 Hive_Training.pdf\n",
      "11/23/2011  05:46 PM               181 Imported from Google Notebook - My Notebook_.gdoc\n",
      "02/09/2015  08:10 PM         8,990,464 Introduction to Statistical Learning with Applications in R Fourth Printing.pdf\n",
      "07/05/2016  05:46 PM           719,245 Intuit Tableau Day - Sets & Parameters.twbx\n",
      "02/01/2021  05:40 PM    <DIR>          Istanbul\n",
      "07/28/2022  09:15 PM    <DIR>          Jupyter\n",
      "09/22/2020  01:14 PM               181 just writing - Column chart 1.gsheet\n",
      "09/22/2020  01:16 PM               181 just writing - Pie chart 2.gsheet\n",
      "09/22/2020  01:47 PM               181 just writing.gdoc\n",
      "04/04/2018  11:14 PM               181 Kickstarter Dataset Analysis.gslides\n",
      "01/28/2021  01:28 PM    <DIR>          Linux\n",
      "09/04/2016  08:04 PM             4,988 LinuxCommands.txt\n",
      "04/21/2017  02:37 PM               181 LinuxCommands.txt.gdoc\n",
      "12/21/2020  11:51 AM               181 ListOfCompanies.gdoc\n",
      "02/04/2010  02:57 PM               181 logistic_output.gdoc\n",
      "12/03/2018  02:13 PM               181 lyc‚e pasteur.gsheet\n",
      "01/15/2016  02:39 PM           162,304 Lycee Pasteur.xls\n",
      "11/02/2013  03:20 PM         2,940,730 MetricsforAmyAfrica.pptx\n",
      "08/03/2020  11:01 PM               181 MonthlyRev.gsheet\n",
      "05/05/2017  09:12 AM             4,232 MyDba__1.sql\n",
      "02/20/2017  02:42 AM             1,287 mysql_20170220.sql\n",
      "01/28/2021  01:27 PM    <DIR>          myweb\n",
      "01/28/2021  01:26 PM    <DIR>          Other\n",
      "02/01/2021  05:34 PM    <DIR>          Others\n",
      "11/09/2018  03:13 PM             3,339 Outlook-z3svfsn4.png\n",
      "08/07/2017  09:21 PM               181 Plan_.gdoc\n",
      "05/17/2015  02:33 PM             2,571 project_proposal_clustering.txt\n",
      "06/02/2022  12:07 PM    <DIR>          Py\n",
      "09/30/2013  03:19 PM         1,758,109 Python_Programming_For_Beginners_for_viewing_secured.pdf\n",
      "07/28/2014  08:42 PM           150,016 Quiz 2.doc\n",
      "07/28/2014  08:42 PM               181 Quiz 2.doc.gdoc\n",
      "07/03/2016  08:52 PM               181 Retirement.gsheet\n",
      "11/18/2020  03:53 PM               181 Rodrigo Zuniga Resume.gdoc\n",
      "02/05/2019  02:02 PM               181 Rodrigo_Zuniga_answers_for_Kristen_Held.gdoc\n",
      "02/22/2015  05:14 PM           108,627 Rodrigo_Zuniga_resume.pdf\n",
      "08/28/2012  09:13 AM               181 sample program data.gsheet\n",
      "05/07/2017  11:34 PM           301,964 sas_statistical-business-analyst.pdf\n",
      "02/04/2010  03:00 PM               181 score_output.gdoc\n",
      "12/11/2019  03:15 PM            86,751 Session_223913_Results.pdf\n",
      "01/28/2021  01:28 PM    <DIR>          SQL\n",
      "11/03/2015  06:09 PM        14,781,405 Stat202.zip\n",
      "01/28/2021  01:28 PM    <DIR>          Stat202.zip (Unzipped Files)\n",
      "01/28/2021  01:26 PM    <DIR>          Tableau Advanced Class\n",
      "01/28/2021  01:26 PM    <DIR>          Tableau Class\n",
      "02/14/2021  02:40 PM    <DIR>          Takeout\n",
      "12/24/2018  03:37 PM               383 tryjquery_ajax_load\n",
      "12/05/2020  02:37 PM               181 Udacity_Data_Analyst_Case_Rodrigo_Zuniga.gdoc\n",
      "12/05/2020  12:22 PM               181 udacity_ltv.gsheet\n",
      "12/05/2020  02:02 PM               181 UdacityAnalyst.gsheet\n",
      "09/30/2020  11:33 AM               181 Untitled Jam.gjam\n",
      "01/21/2021  10:44 AM               181 Untitled presentation.gslides\n",
      "08/19/2020  10:52 PM               181 Untitled spreadsheet.gsheet\n",
      "07/31/2016  06:37 PM                91 Vertica.txt\n",
      "11/27/2020  03:51 PM               181 wmn-dqxa-gmo - Nov 27, 2020 (1).gjam\n",
      "11/27/2020  05:19 PM               181 wmn-dqxa-gmo - Nov 27, 2020.gjam\n",
      "06/11/2010  02:01 PM               181 Zuniga_Rodrigo_06-14-10.gdoc\n",
      "              56 File(s)     87,850,590 bytes\n",
      "              20 Dir(s)  551,458,713,600 bytes free\n"
     ]
    }
   ],
   "source": [
    "%ls"
   ]
  },
  {
   "cell_type": "code",
   "execution_count": 10,
   "metadata": {},
   "outputs": [
    {
     "name": "stdout",
     "output_type": "stream",
     "text": [
      "C:\\Users\\rodri\\Google Drive\\Jupyter\n"
     ]
    }
   ],
   "source": [
    "%cd Jupyter"
   ]
  },
  {
   "cell_type": "code",
   "execution_count": 21,
   "metadata": {},
   "outputs": [
    {
     "name": "stdout",
     "output_type": "stream",
     "text": [
      "0.3333333333333333\n"
     ]
    },
    {
     "data": {
      "text/plain": [
       "0.33"
      ]
     },
     "execution_count": 21,
     "metadata": {},
     "output_type": "execute_result"
    }
   ],
   "source": [
    "%precision 4\n",
    "x=1/3\n",
    "print(x)\n",
    "%precision 2\n",
    "1/3"
   ]
  },
  {
   "cell_type": "code",
   "execution_count": 23,
   "metadata": {},
   "outputs": [
    {
     "data": {
      "application/json": {
       "cell": {
        "!": "OSMagics",
        "HTML": "Other",
        "SVG": "Other",
        "bash": "Other",
        "capture": "ExecutionMagics",
        "cmd": "Other",
        "debug": "ExecutionMagics",
        "file": "Other",
        "html": "DisplayMagics",
        "javascript": "DisplayMagics",
        "js": "DisplayMagics",
        "latex": "DisplayMagics",
        "markdown": "DisplayMagics",
        "perl": "Other",
        "prun": "ExecutionMagics",
        "pypy": "Other",
        "python": "Other",
        "python2": "Other",
        "python3": "Other",
        "ruby": "Other",
        "script": "ScriptMagics",
        "sh": "Other",
        "svg": "DisplayMagics",
        "sx": "OSMagics",
        "system": "OSMagics",
        "time": "ExecutionMagics",
        "timeit": "ExecutionMagics",
        "writefile": "OSMagics"
       },
       "line": {
        "alias": "OSMagics",
        "alias_magic": "BasicMagics",
        "autoawait": "AsyncMagics",
        "autocall": "AutoMagics",
        "automagic": "AutoMagics",
        "autosave": "KernelMagics",
        "bookmark": "OSMagics",
        "cd": "OSMagics",
        "clear": "KernelMagics",
        "cls": "KernelMagics",
        "colors": "BasicMagics",
        "conda": "PackagingMagics",
        "config": "ConfigMagics",
        "connect_info": "KernelMagics",
        "copy": "Other",
        "ddir": "Other",
        "debug": "ExecutionMagics",
        "dhist": "OSMagics",
        "dirs": "OSMagics",
        "doctest_mode": "BasicMagics",
        "echo": "Other",
        "ed": "Other",
        "edit": "KernelMagics",
        "env": "OSMagics",
        "gui": "BasicMagics",
        "hist": "Other",
        "history": "HistoryMagics",
        "killbgscripts": "ScriptMagics",
        "ldir": "Other",
        "less": "KernelMagics",
        "load": "CodeMagics",
        "load_ext": "ExtensionMagics",
        "loadpy": "CodeMagics",
        "logoff": "LoggingMagics",
        "logon": "LoggingMagics",
        "logstart": "LoggingMagics",
        "logstate": "LoggingMagics",
        "logstop": "LoggingMagics",
        "ls": "Other",
        "lsmagic": "BasicMagics",
        "macro": "ExecutionMagics",
        "magic": "BasicMagics",
        "matplotlib": "PylabMagics",
        "mkdir": "Other",
        "more": "KernelMagics",
        "notebook": "BasicMagics",
        "page": "BasicMagics",
        "pastebin": "CodeMagics",
        "pdb": "ExecutionMagics",
        "pdef": "NamespaceMagics",
        "pdoc": "NamespaceMagics",
        "pfile": "NamespaceMagics",
        "pinfo": "NamespaceMagics",
        "pinfo2": "NamespaceMagics",
        "pip": "PackagingMagics",
        "popd": "OSMagics",
        "pprint": "BasicMagics",
        "precision": "BasicMagics",
        "prun": "ExecutionMagics",
        "psearch": "NamespaceMagics",
        "psource": "NamespaceMagics",
        "pushd": "OSMagics",
        "pwd": "OSMagics",
        "pycat": "OSMagics",
        "pylab": "PylabMagics",
        "qtconsole": "KernelMagics",
        "quickref": "BasicMagics",
        "recall": "HistoryMagics",
        "rehashx": "OSMagics",
        "reload_ext": "ExtensionMagics",
        "ren": "Other",
        "rep": "Other",
        "rerun": "HistoryMagics",
        "reset": "NamespaceMagics",
        "reset_selective": "NamespaceMagics",
        "rmdir": "Other",
        "run": "ExecutionMagics",
        "save": "CodeMagics",
        "sc": "OSMagics",
        "set_env": "OSMagics",
        "store": "StoreMagics",
        "sx": "OSMagics",
        "system": "OSMagics",
        "tb": "ExecutionMagics",
        "time": "ExecutionMagics",
        "timeit": "ExecutionMagics",
        "unalias": "OSMagics",
        "unload_ext": "ExtensionMagics",
        "who": "NamespaceMagics",
        "who_ls": "NamespaceMagics",
        "whos": "NamespaceMagics",
        "xdel": "NamespaceMagics",
        "xmode": "BasicMagics"
       }
      },
      "text/plain": [
       "Available line magics:\n",
       "%alias  %alias_magic  %autoawait  %autocall  %automagic  %autosave  %bookmark  %cd  %clear  %cls  %colors  %conda  %config  %connect_info  %copy  %ddir  %debug  %dhist  %dirs  %doctest_mode  %echo  %ed  %edit  %env  %gui  %hist  %history  %killbgscripts  %ldir  %less  %load  %load_ext  %loadpy  %logoff  %logon  %logstart  %logstate  %logstop  %ls  %lsmagic  %macro  %magic  %matplotlib  %mkdir  %more  %notebook  %page  %pastebin  %pdb  %pdef  %pdoc  %pfile  %pinfo  %pinfo2  %pip  %popd  %pprint  %precision  %prun  %psearch  %psource  %pushd  %pwd  %pycat  %pylab  %qtconsole  %quickref  %recall  %rehashx  %reload_ext  %ren  %rep  %rerun  %reset  %reset_selective  %rmdir  %run  %save  %sc  %set_env  %store  %sx  %system  %tb  %time  %timeit  %unalias  %unload_ext  %who  %who_ls  %whos  %xdel  %xmode\n",
       "\n",
       "Available cell magics:\n",
       "%%!  %%HTML  %%SVG  %%bash  %%capture  %%cmd  %%debug  %%file  %%html  %%javascript  %%js  %%latex  %%markdown  %%perl  %%prun  %%pypy  %%python  %%python2  %%python3  %%ruby  %%script  %%sh  %%svg  %%sx  %%system  %%time  %%timeit  %%writefile\n",
       "\n",
       "Automagic is ON, % prefix IS NOT needed for line magics."
      ]
     },
     "execution_count": 23,
     "metadata": {},
     "output_type": "execute_result"
    }
   ],
   "source": [
    "%lsmagic"
   ]
  },
  {
   "cell_type": "code",
   "execution_count": 11,
   "metadata": {},
   "outputs": [
    {
     "name": "stdout",
     "output_type": "stream",
     "text": [
      "C:\\Users\\rodri\\Google Drive\\Jupyter\\git\n"
     ]
    }
   ],
   "source": [
    "%cd git"
   ]
  },
  {
   "cell_type": "code",
   "execution_count": 22,
   "metadata": {},
   "outputs": [
    {
     "name": "stdout",
     "output_type": "stream",
     "text": [
      " Volume in drive C has no label.\n",
      " Volume Serial Number is E403-40F8\n",
      "\n",
      " Directory of C:\\Users\\rodri\\Google Drive\\Jupyter\\git\n",
      "\n",
      "07/28/2022  09:52 PM    <DIR>          .\n",
      "07/28/2022  09:15 PM    <DIR>          ..\n",
      "07/28/2022  09:52 PM    <DIR>          .ipynb_checkpoints\n",
      "07/28/2022  09:52 PM             1,184 jupgit5.ipynb\n",
      "               1 File(s)          1,184 bytes\n",
      "               3 Dir(s)  551,450,247,168 bytes free\n"
     ]
    }
   ],
   "source": [
    "%ls"
   ]
  },
  {
   "cell_type": "code",
   "execution_count": 25,
   "metadata": {},
   "outputs": [
    {
     "name": "stdout",
     "output_type": "stream",
     "text": [
      "Macro `__hw` created. To execute, type its name (without quotes).\n",
      "=== Macro contents: ===\n",
      "print('hello world, how are you?')\n",
      " "
     ]
    }
   ],
   "source": [
    "%macro __hw 24"
   ]
  },
  {
   "cell_type": "code",
   "execution_count": 24,
   "metadata": {},
   "outputs": [
    {
     "name": "stdout",
     "output_type": "stream",
     "text": [
      "hello world, how are you?\n"
     ]
    }
   ],
   "source": [
    "print('hello world, how are you?')"
   ]
  },
  {
   "cell_type": "code",
   "execution_count": 26,
   "metadata": {},
   "outputs": [
    {
     "name": "stdout",
     "output_type": "stream",
     "text": [
      "hello world, how are you?\n"
     ]
    }
   ],
   "source": [
    "__hw"
   ]
  },
  {
   "cell_type": "code",
   "execution_count": 27,
   "metadata": {},
   "outputs": [
    {
     "name": "stdout",
     "output_type": "stream",
     "text": [
      "Stored '__hw' (Macro)\n"
     ]
    }
   ],
   "source": [
    "%store __hw"
   ]
  },
  {
   "cell_type": "code",
   "execution_count": 28,
   "metadata": {},
   "outputs": [],
   "source": [
    "%store -r __hw"
   ]
  },
  {
   "cell_type": "code",
   "execution_count": 29,
   "metadata": {},
   "outputs": [],
   "source": [
    "%quickref"
   ]
  },
  {
   "cell_type": "code",
   "execution_count": 31,
   "metadata": {},
   "outputs": [],
   "source": [
    "%alias dt 'date'"
   ]
  },
  {
   "cell_type": "code",
   "execution_count": 33,
   "metadata": {},
   "outputs": [
    {
     "name": "stderr",
     "output_type": "stream",
     "text": [
      "''date'' is not recognized as an internal or external command,\n",
      "operable program or batch file.\n"
     ]
    }
   ],
   "source": [
    "%dt"
   ]
  },
  {
   "cell_type": "code",
   "execution_count": 42,
   "metadata": {},
   "outputs": [
    {
     "data": {
      "text/plain": [
       "['jupgit5.ipynb']"
      ]
     },
     "execution_count": 42,
     "metadata": {},
     "output_type": "execute_result"
    }
   ],
   "source": [
    "%sx ls"
   ]
  },
  {
   "cell_type": "code",
   "execution_count": 43,
   "metadata": {},
   "outputs": [
    {
     "data": {
      "text/plain": [
       "['jupgit5.ipynb']"
      ]
     },
     "execution_count": 43,
     "metadata": {},
     "output_type": "execute_result"
    }
   ],
   "source": [
    "%system ls"
   ]
  },
  {
   "cell_type": "code",
   "execution_count": 44,
   "metadata": {},
   "outputs": [
    {
     "data": {
      "text/plain": [
       "['The current date is: Thu 08/04/2022 ', 'Enter the new date: (mm-dd-yy) ']"
      ]
     },
     "execution_count": 44,
     "metadata": {},
     "output_type": "execute_result"
    }
   ],
   "source": [
    "%system date"
   ]
  },
  {
   "cell_type": "code",
   "execution_count": 45,
   "metadata": {},
   "outputs": [
    {
     "data": {
      "text/plain": [
       "['The current date is: Thu 08/04/2022 ', 'Enter the new date: (mm-dd-yy) ']"
      ]
     },
     "execution_count": 45,
     "metadata": {},
     "output_type": "execute_result"
    }
   ],
   "source": [
    "%sx date"
   ]
  },
  {
   "cell_type": "code",
   "execution_count": 46,
   "metadata": {},
   "outputs": [
    {
     "name": "stdout",
     "output_type": "stream",
     "text": [
      "jupgit5.ipynb\n"
     ]
    }
   ],
   "source": [
    "!ls"
   ]
  },
  {
   "cell_type": "code",
   "execution_count": 47,
   "metadata": {},
   "outputs": [
    {
     "data": {
      "text/plain": [
       "['jupgit5.ipynb']"
      ]
     },
     "execution_count": 47,
     "metadata": {},
     "output_type": "execute_result"
    }
   ],
   "source": [
    "!!ls"
   ]
  },
  {
   "cell_type": "code",
   "execution_count": null,
   "metadata": {},
   "outputs": [],
   "source": [
    "#ctrl+shift+- to split into two cells from the cursor\n",
    "line1\n",
    "line2"
   ]
  },
  {
   "cell_type": "code",
   "execution_count": null,
   "metadata": {},
   "outputs": [],
   "source": [
    "line3 \n",
    "line4"
   ]
  },
  {
   "cell_type": "code",
   "execution_count": 48,
   "metadata": {},
   "outputs": [
    {
     "name": "stdout",
     "output_type": "stream",
     "text": [
      "Wall time: 103 µs\n",
      "this is timing how long it takes\n"
     ]
    }
   ],
   "source": [
    "%time\n",
    "print('this is timing how long it takes')"
   ]
  },
  {
   "cell_type": "code",
   "execution_count": 49,
   "metadata": {},
   "outputs": [
    {
     "data": {
      "text/plain": [
       "['NamespaceMagics',\n",
       " 'a',\n",
       " 'b',\n",
       " 'c',\n",
       " 'd',\n",
       " 'get_ipython',\n",
       " 'getsizeof',\n",
       " 'json',\n",
       " 'np',\n",
       " 'var_dic_list',\n",
       " 'x']"
      ]
     },
     "execution_count": 49,
     "metadata": {},
     "output_type": "execute_result"
    }
   ],
   "source": [
    "%who_ls"
   ]
  },
  {
   "cell_type": "code",
   "execution_count": 51,
   "metadata": {},
   "outputs": [
    {
     "name": "stdout",
     "output_type": "stream",
     "text": [
      "123\n"
     ]
    },
    {
     "ename": "NameError",
     "evalue": "name 'abc' is not defined",
     "output_type": "error",
     "traceback": [
      "\u001b[1;31m---------------------------------------------------------------------------\u001b[0m",
      "\u001b[1;31mNameError\u001b[0m                                 Traceback (most recent call last)",
      "\u001b[1;32m<ipython-input-51-11109627aeba>\u001b[0m in \u001b[0;36m<module>\u001b[1;34m\u001b[0m\n\u001b[0;32m      2\u001b[0m \u001b[0mprint\u001b[0m\u001b[1;33m(\u001b[0m\u001b[0mabc\u001b[0m\u001b[1;33m)\u001b[0m\u001b[1;33m\u001b[0m\u001b[1;33m\u001b[0m\u001b[0m\n\u001b[0;32m      3\u001b[0m \u001b[0mget_ipython\u001b[0m\u001b[1;33m(\u001b[0m\u001b[1;33m)\u001b[0m\u001b[1;33m.\u001b[0m\u001b[0mrun_line_magic\u001b[0m\u001b[1;33m(\u001b[0m\u001b[1;34m'xdel'\u001b[0m\u001b[1;33m,\u001b[0m \u001b[1;34m'abc'\u001b[0m\u001b[1;33m)\u001b[0m\u001b[1;33m\u001b[0m\u001b[1;33m\u001b[0m\u001b[0m\n\u001b[1;32m----> 4\u001b[1;33m \u001b[0mabc\u001b[0m\u001b[1;33m\u001b[0m\u001b[1;33m\u001b[0m\u001b[0m\n\u001b[0m",
      "\u001b[1;31mNameError\u001b[0m: name 'abc' is not defined"
     ]
    }
   ],
   "source": [
    "##delete variable:\n",
    "abc=123\n",
    "print(abc)\n",
    "%xdel abc\n",
    "abc"
   ]
  },
  {
   "cell_type": "code",
   "execution_count": 56,
   "metadata": {},
   "outputs": [
    {
     "data": {
      "text/html": [
       "<h1>Heading_1</h1>\n",
       "<h2>Heading_2</h2>\n",
       "<h3>Heading_3</h3>\n",
       "<h4>Heading_4</h4>\n",
       "<h5>Heading_5</h5>\n",
       "<h6>Heading_6</h6>\n"
      ],
      "text/plain": [
       "<IPython.core.display.HTML object>"
      ]
     },
     "metadata": {},
     "output_type": "display_data"
    }
   ],
   "source": [
    "%%html\n",
    "<h1>Heading_1</h1>\n",
    "<h2>Heading_2</h2>\n",
    "<h3>Heading_3</h3>\n",
    "<h4>Heading_4</h4>\n",
    "<h5>Heading_5</h5>\n",
    "<h6>Heading_6</h6>"
   ]
  },
  {
   "cell_type": "code",
   "execution_count": 58,
   "metadata": {},
   "outputs": [
    {
     "data": {
      "text/plain": [
       "'C:\\\\Users\\\\rodri\\\\Google Drive\\\\Jupyter\\\\git'"
      ]
     },
     "execution_count": 58,
     "metadata": {},
     "output_type": "execute_result"
    }
   ],
   "source": [
    "%pwd"
   ]
  },
  {
   "cell_type": "code",
   "execution_count": null,
   "metadata": {},
   "outputs": [],
   "source": []
  }
 ],
 "metadata": {
  "kernelspec": {
   "display_name": "Python 3",
   "language": "python",
   "name": "python3"
  },
  "language_info": {
   "codemirror_mode": {
    "name": "ipython",
    "version": 3
   },
   "file_extension": ".py",
   "mimetype": "text/x-python",
   "name": "python",
   "nbconvert_exporter": "python",
   "pygments_lexer": "ipython3",
   "version": "3.8.3"
  },
  "varInspector": {
   "cols": {
    "lenName": 16,
    "lenType": 16,
    "lenVar": 40
   },
   "kernels_config": {
    "python": {
     "delete_cmd_postfix": "",
     "delete_cmd_prefix": "del ",
     "library": "var_list.py",
     "varRefreshCmd": "print(var_dic_list())"
    },
    "r": {
     "delete_cmd_postfix": ") ",
     "delete_cmd_prefix": "rm(",
     "library": "var_list.r",
     "varRefreshCmd": "cat(var_dic_list()) "
    }
   },
   "types_to_exclude": [
    "module",
    "function",
    "builtin_function_or_method",
    "instance",
    "_Feature"
   ],
   "window_display": false
  }
 },
 "nbformat": 4,
 "nbformat_minor": 4
}
